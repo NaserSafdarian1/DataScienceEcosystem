{
  "metadata": {
    "kernelspec": {
      "name": "python",
      "display_name": "Python (Pyodide)",
      "language": "python"
    },
    "language_info": {
      "codemirror_mode": {
        "name": "python",
        "version": 3
      },
      "file_extension": ".py",
      "mimetype": "text/x-python",
      "name": "python",
      "nbconvert_exporter": "python",
      "pygments_lexer": "ipython3",
      "version": "3.8"
    }
  },
  "nbformat_minor": 4,
  "nbformat": 4,
  "cells": [
    {
      "cell_type": "markdown",
      "source": "## <center>Author:</center>\nNaser Safdarian",
      "metadata": {}
    },
    {
      "cell_type": "markdown",
      "source": "Title of Project:\nData Science Tools and Ecosystem",
      "metadata": {
        "tags": [],
        "editable": true,
        "slideshow": {
          "slide_type": ""
        }
      }
    },
    {
      "cell_type": "markdown",
      "source": "Introduction of Project:\nIn this notebook, Data Science Tools and Ecosystem are summarized.",
      "metadata": {}
    },
    {
      "cell_type": "markdown",
      "source": "**Objectives:**\n - List popular languages for Data Science\n     - Python\n     - MATLAB\n     - R\n     - Scala\n     - C++\n     - Java \n - Some of the commonly used libraries used by Machine Learning and deep learning include:\n     - Scikit-learn\n     - Scipy\n     - Keras\n     - Pytorch\n     - Tensorflow",
      "metadata": {}
    },
    {
      "cell_type": "markdown",
      "source": "overview of Project:\nSome of the popular languages that Data Scientists use are:\n1) Python\n2) R\n3) Scala",
      "metadata": {},
      "attachments": {}
    },
    {
      "cell_type": "markdown",
      "source": "Some of the commonly used libraries used by Data Scientists include:\n1) Numpy\n2) pandas\n3) matplotlib",
      "metadata": {},
      "attachments": {}
    },
    {
      "cell_type": "markdown",
      "source": "| Data Science Tools |\n| --- |\n| Pytorch |\n| Keras |\n| Tensorflow |\n| MLFlow |",
      "metadata": {}
    },
    {
      "cell_type": "markdown",
      "source": "<h3 align=\"center\">Below are a few examples of evaluating arithmetic expressions in Python</h3> \n",
      "metadata": {}
    },
    {
      "cell_type": "code",
      "source": "# This a simple arithmetic expression to mutiply then add integers\na = (3*4)+5\nprint('Result: ', a)",
      "metadata": {
        "trusted": true
      },
      "outputs": [
        {
          "name": "stdout",
          "text": "Result:  17\n",
          "output_type": "stream"
        }
      ],
      "execution_count": 3
    },
    {
      "cell_type": "code",
      "source": "# Code for converts \"200 minutes\" into \"hours\"\nb = 200 / 60\nprint('Results of converts 200 minutes into hours: ', b)",
      "metadata": {
        "trusted": true
      },
      "outputs": [
        {
          "name": "stdout",
          "text": "Results of converts 200 minutes into hours:  3.3333333333333335\n",
          "output_type": "stream"
        }
      ],
      "execution_count": 5
    }
  ]
}